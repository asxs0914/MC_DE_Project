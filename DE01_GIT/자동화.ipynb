{
 "cells": [
  {
   "cell_type": "code",
   "execution_count": 24,
   "id": "ced70e08",
   "metadata": {},
   "outputs": [],
   "source": [
    "from selenium import webdriver"
   ]
  },
  {
   "cell_type": "code",
   "execution_count": 25,
   "id": "2535e070",
   "metadata": {},
   "outputs": [],
   "source": [
    "from selenium.webdriver.chrome.service import Service\n",
    "from webdriver_manager.chrome import ChromeDriverManager\n",
    "from selenium.webdriver.common.by import By"
   ]
  },
  {
   "cell_type": "code",
   "execution_count": 26,
   "id": "4ab242af",
   "metadata": {},
   "outputs": [],
   "source": [
    "import pandas as pd\n",
    "import numpy as np"
   ]
  },
  {
   "cell_type": "code",
   "execution_count": 27,
   "id": "839dbb1f",
   "metadata": {},
   "outputs": [],
   "source": [
    "def get_chrome_driver():\n",
    "    # 1. 크롬 옵션 세팅\n",
    "    chrome_options = webdriver.ChromeOptions()\n",
    "    \n",
    "    # 2. driver 생성하기\n",
    "    driver = webdriver.Chrome(\n",
    "        service=Service(ChromeDriverManager().install()), # 가장 많이 바뀐 부분\n",
    "        options=chrome_options\n",
    "    )\n",
    "    \n",
    "    return driver"
   ]
  },
  {
   "cell_type": "code",
   "execution_count": 28,
   "id": "1289ea7d",
   "metadata": {},
   "outputs": [
    {
     "name": "stderr",
     "output_type": "stream",
     "text": [
      "\n",
      "\n",
      "====== WebDriver manager ======\n",
      "Current google-chrome version is 102.0.5005\n",
      "Get LATEST chromedriver version for 102.0.5005 google-chrome\n",
      "Driver [C:\\Users\\asxs0\\.wdm\\drivers\\chromedriver\\win32\\102.0.5005.61\\chromedriver.exe] found in cache\n"
     ]
    }
   ],
   "source": [
    "driver = get_chrome_driver()\n",
    "driver.maximize_window() #창이 작으면 검색버튼이 안눌리는거같아서 최대화했습니다."
   ]
  },
  {
   "cell_type": "code",
   "execution_count": 42,
   "id": "5b8a38a3",
   "metadata": {},
   "outputs": [],
   "source": [
    "driver.get(\"https://www.kofiabond.or.kr/\")#해당 페이지로 들어감"
   ]
  },
  {
   "cell_type": "code",
   "execution_count": 43,
   "id": "ca46850a",
   "metadata": {},
   "outputs": [],
   "source": [
    "driver.switch_to.frame('fraAMAKMain') #프레임 변경"
   ]
  },
  {
   "cell_type": "code",
   "execution_count": 44,
   "id": "6d5bfd96",
   "metadata": {},
   "outputs": [
    {
     "name": "stderr",
     "output_type": "stream",
     "text": [
      "C:\\Users\\asxs0\\AppData\\Local\\Temp/ipykernel_25188/2239386522.py:4: DeprecationWarning: find_element_by_xpath is deprecated. Please use find_element(by=By.XPATH, value=xpath) instead\n",
      "  driver.find_element_by_xpath('/html/body/div[2]/div[2]/div[2]/div/ul/li/ul[1]/li[1]/a/img').click()\n"
     ]
    }
   ],
   "source": [
    "driver.find_element_by_xpath('/html/body/div[2]/div[2]/div[2]/div/ul/li/ul[1]/li[1]/a/img').click() #이미지 선택\n"
   ]
  },
  {
   "cell_type": "code",
   "execution_count": 49,
   "id": "c92133cc",
   "metadata": {},
   "outputs": [],
   "source": [
    "driver.switch_to.frame('maincontent') #프레임 변경"
   ]
  },
  {
   "cell_type": "code",
   "execution_count": 50,
   "id": "d9901b02",
   "metadata": {},
   "outputs": [
    {
     "name": "stderr",
     "output_type": "stream",
     "text": [
      "C:\\Users\\asxs0\\AppData\\Local\\Temp/ipykernel_25188/3518613604.py:1: DeprecationWarning: find_element_by_xpath is deprecated. Please use find_element(by=By.XPATH, value=xpath) instead\n",
      "  driver.find_element_by_xpath('//*[@id=\"tabContents1_tab_tabs2\"]/div[1]/a').click()\n"
     ]
    }
   ],
   "source": [
    "driver.find_element_by_xpath('//*[@id=\"tabContents1_tab_tabs2\"]/div[1]/a').click() #일자별 >> 기간별로 변경"
   ]
  },
  {
   "cell_type": "code",
   "execution_count": 52,
   "id": "b9964432",
   "metadata": {},
   "outputs": [],
   "source": [
    "driver.switch_to.frame(\"tabContents1_contents_tabs2_body\") # 프레임 변경"
   ]
  },
  {
   "cell_type": "code",
   "execution_count": 53,
   "id": "2bd89299",
   "metadata": {},
   "outputs": [
    {
     "name": "stderr",
     "output_type": "stream",
     "text": [
      "C:\\Users\\asxs0\\AppData\\Local\\Temp/ipykernel_25188/3265007947.py:1: DeprecationWarning: find_element_by_xpath is deprecated. Please use find_element(by=By.XPATH, value=xpath) instead\n",
      "  driver.find_element_by_xpath('//*[@id=\"chkAnnItm_input_2\"]').click()\n",
      "C:\\Users\\asxs0\\AppData\\Local\\Temp/ipykernel_25188/3265007947.py:2: DeprecationWarning: find_element_by_xpath is deprecated. Please use find_element(by=By.XPATH, value=xpath) instead\n",
      "  driver.find_element_by_xpath('//*[@id=\"chkAnnItm_input_3\"]').click()\n",
      "C:\\Users\\asxs0\\AppData\\Local\\Temp/ipykernel_25188/3265007947.py:3: DeprecationWarning: find_element_by_xpath is deprecated. Please use find_element(by=By.XPATH, value=xpath) instead\n",
      "  driver.find_element_by_xpath('//*[@id=\"chkAnnItm_input_10\"]').click()\n",
      "C:\\Users\\asxs0\\AppData\\Local\\Temp/ipykernel_25188/3265007947.py:4: DeprecationWarning: find_element_by_xpath is deprecated. Please use find_element(by=By.XPATH, value=xpath) instead\n",
      "  driver.find_element_by_xpath('//*[@id=\"chkAnnItm_input_11\"]').click()\n",
      "C:\\Users\\asxs0\\AppData\\Local\\Temp/ipykernel_25188/3265007947.py:5: DeprecationWarning: find_element_by_xpath is deprecated. Please use find_element(by=By.XPATH, value=xpath) instead\n",
      "  driver.find_element_by_xpath('//*[@id=\"chkAnnItm_input_14\"]').click()\n",
      "C:\\Users\\asxs0\\AppData\\Local\\Temp/ipykernel_25188/3265007947.py:6: DeprecationWarning: find_element_by_xpath is deprecated. Please use find_element(by=By.XPATH, value=xpath) instead\n",
      "  driver.find_element_by_xpath('//*[@id=\"chkAnnItm_input_16\"]').click()\n",
      "C:\\Users\\asxs0\\AppData\\Local\\Temp/ipykernel_25188/3265007947.py:7: DeprecationWarning: find_element_by_xpath is deprecated. Please use find_element(by=By.XPATH, value=xpath) instead\n",
      "  driver.find_element_by_xpath('//*[@id=\"chkAnnItm_input_0\"]').click()\n"
     ]
    }
   ],
   "source": [
    "driver.find_element_by_xpath('//*[@id=\"chkAnnItm_input_2\"]').click() #기본 선택 다 제외하고 국고채권(1년)만 선택\n",
    "driver.find_element_by_xpath('//*[@id=\"chkAnnItm_input_3\"]').click()\n",
    "driver.find_element_by_xpath('//*[@id=\"chkAnnItm_input_10\"]').click()\n",
    "driver.find_element_by_xpath('//*[@id=\"chkAnnItm_input_11\"]').click()\n",
    "driver.find_element_by_xpath('//*[@id=\"chkAnnItm_input_14\"]').click()\n",
    "driver.find_element_by_xpath('//*[@id=\"chkAnnItm_input_16\"]').click()\n",
    "driver.find_element_by_xpath('//*[@id=\"chkAnnItm_input_0\"]').click()"
   ]
  },
  {
   "cell_type": "code",
   "execution_count": 54,
   "id": "b932d0be",
   "metadata": {},
   "outputs": [
    {
     "name": "stderr",
     "output_type": "stream",
     "text": [
      "C:\\Users\\asxs0\\AppData\\Local\\Temp/ipykernel_25188/3450175556.py:1: DeprecationWarning: find_element_by_xpath is deprecated. Please use find_element(by=By.XPATH, value=xpath) instead\n",
      "  driver.find_element_by_xpath('//*[@id=\"image4\"]').click()\n"
     ]
    }
   ],
   "source": [
    "driver.find_element_by_xpath('//*[@id=\"image4\"]').click() #조회 클릭"
   ]
  },
  {
   "cell_type": "code",
   "execution_count": 56,
   "id": "7dc82542",
   "metadata": {},
   "outputs": [
    {
     "name": "stdout",
     "output_type": "stream",
     "text": [
      "           일자 국고채권\\n(1년)\n",
      "0  2022-06-16      2.651\n",
      "0  2022-06-15      2.541\n",
      "0  2022-06-14      2.451\n",
      "0  2022-06-13      2.416\n",
      "0  2022-06-10      2.290\n",
      "0  2022-06-09      2.234\n",
      "0  2022-06-08      2.226\n",
      "0  2022-06-07      2.222\n",
      "0  2022-06-03      2.180\n",
      "0  2022-06-02      2.181\n",
      "0  2022-05-31      2.163\n",
      "0  2022-05-30      2.131\n",
      "0  2022-05-27      2.137\n",
      "0  2022-05-26      2.129\n",
      "0  2022-05-25      2.091\n",
      "0  2022-05-24      2.092\n",
      "0  2022-05-23      2.088\n",
      "0  2022-05-20      2.072\n",
      "0  2022-05-19      2.079\n"
     ]
    }
   ],
   "source": [
    "#GS와 다르게 시군구 다 놓고 '검색'해야 결과물이 나옴 조건문으로 잘 굴려봐야함\n",
    "\n",
    "import pandas as pd\n",
    "import time\n",
    "i=2\n",
    "j=2\n",
    "datas = pd.DataFrame()\n",
    "salist=[]\n",
    "\n",
    "for k in range(1,20):\n",
    "    day = driver.find_element(By.XPATH,f'//*[@id=\"grdMain_cell_{k}_0\"]/nobr').text#일자\n",
    "    val = driver.find_element(By.XPATH,f'//*[@id=\"grdMain_cell_{k}_1\"]/nobr').text#값\n",
    "    salist = [[day, val]]#받은거 리스트로 저장\n",
    "    dff = pd.DataFrame(salist, columns=['일자','국고채권\\n(1년)'])#데이터프레임으로 만들기\n",
    "    datas = pd.concat([datas, dff])#빈 데이터프레임에 쌓기\n",
    "\n",
    "print(datas)"
   ]
  },
  {
   "cell_type": "code",
   "execution_count": 57,
   "id": "3b5048af",
   "metadata": {},
   "outputs": [],
   "source": [
    "import FinanceDataReader as fdr"
   ]
  },
  {
   "cell_type": "code",
   "execution_count": 58,
   "id": "7e53a435",
   "metadata": {},
   "outputs": [],
   "source": [
    "df = fdr.DataReader('KR1YT=RR')"
   ]
  },
  {
   "cell_type": "code",
   "execution_count": 60,
   "id": "1cca2593",
   "metadata": {},
   "outputs": [
    {
     "data": {
      "text/html": [
       "<div>\n",
       "<style scoped>\n",
       "    .dataframe tbody tr th:only-of-type {\n",
       "        vertical-align: middle;\n",
       "    }\n",
       "\n",
       "    .dataframe tbody tr th {\n",
       "        vertical-align: top;\n",
       "    }\n",
       "\n",
       "    .dataframe thead th {\n",
       "        text-align: right;\n",
       "    }\n",
       "</style>\n",
       "<table border=\"1\" class=\"dataframe\">\n",
       "  <thead>\n",
       "    <tr style=\"text-align: right;\">\n",
       "      <th></th>\n",
       "      <th>Close</th>\n",
       "      <th>Open</th>\n",
       "      <th>High</th>\n",
       "      <th>Low</th>\n",
       "      <th>Change</th>\n",
       "    </tr>\n",
       "    <tr>\n",
       "      <th>Date</th>\n",
       "      <th></th>\n",
       "      <th></th>\n",
       "      <th></th>\n",
       "      <th></th>\n",
       "      <th></th>\n",
       "    </tr>\n",
       "  </thead>\n",
       "  <tbody>\n",
       "    <tr>\n",
       "      <th>1995-05-03</th>\n",
       "      <td>14.550</td>\n",
       "      <td>14.550</td>\n",
       "      <td>14.550</td>\n",
       "      <td>14.550</td>\n",
       "      <td>0.0069</td>\n",
       "    </tr>\n",
       "    <tr>\n",
       "      <th>1995-05-04</th>\n",
       "      <td>14.550</td>\n",
       "      <td>14.550</td>\n",
       "      <td>14.550</td>\n",
       "      <td>14.550</td>\n",
       "      <td>0.0000</td>\n",
       "    </tr>\n",
       "    <tr>\n",
       "      <th>1995-05-06</th>\n",
       "      <td>14.500</td>\n",
       "      <td>14.500</td>\n",
       "      <td>14.500</td>\n",
       "      <td>14.500</td>\n",
       "      <td>-0.0034</td>\n",
       "    </tr>\n",
       "    <tr>\n",
       "      <th>1995-05-08</th>\n",
       "      <td>14.500</td>\n",
       "      <td>14.500</td>\n",
       "      <td>14.500</td>\n",
       "      <td>14.500</td>\n",
       "      <td>0.0000</td>\n",
       "    </tr>\n",
       "    <tr>\n",
       "      <th>1995-05-09</th>\n",
       "      <td>14.500</td>\n",
       "      <td>14.500</td>\n",
       "      <td>14.500</td>\n",
       "      <td>14.500</td>\n",
       "      <td>0.0000</td>\n",
       "    </tr>\n",
       "    <tr>\n",
       "      <th>...</th>\n",
       "      <td>...</td>\n",
       "      <td>...</td>\n",
       "      <td>...</td>\n",
       "      <td>...</td>\n",
       "      <td>...</td>\n",
       "    </tr>\n",
       "    <tr>\n",
       "      <th>2022-06-12</th>\n",
       "      <td>2.340</td>\n",
       "      <td>2.340</td>\n",
       "      <td>2.340</td>\n",
       "      <td>2.340</td>\n",
       "      <td>0.0000</td>\n",
       "    </tr>\n",
       "    <tr>\n",
       "      <th>2022-06-13</th>\n",
       "      <td>2.426</td>\n",
       "      <td>2.430</td>\n",
       "      <td>2.430</td>\n",
       "      <td>2.426</td>\n",
       "      <td>0.0368</td>\n",
       "    </tr>\n",
       "    <tr>\n",
       "      <th>2022-06-14</th>\n",
       "      <td>2.445</td>\n",
       "      <td>2.445</td>\n",
       "      <td>2.445</td>\n",
       "      <td>2.445</td>\n",
       "      <td>0.0078</td>\n",
       "    </tr>\n",
       "    <tr>\n",
       "      <th>2022-06-15</th>\n",
       "      <td>2.600</td>\n",
       "      <td>2.600</td>\n",
       "      <td>2.600</td>\n",
       "      <td>2.600</td>\n",
       "      <td>0.0634</td>\n",
       "    </tr>\n",
       "    <tr>\n",
       "      <th>2022-06-16</th>\n",
       "      <td>2.514</td>\n",
       "      <td>2.514</td>\n",
       "      <td>2.514</td>\n",
       "      <td>2.514</td>\n",
       "      <td>-0.0331</td>\n",
       "    </tr>\n",
       "  </tbody>\n",
       "</table>\n",
       "<p>6857 rows × 5 columns</p>\n",
       "</div>"
      ],
      "text/plain": [
       "             Close    Open    High     Low  Change\n",
       "Date                                              \n",
       "1995-05-03  14.550  14.550  14.550  14.550  0.0069\n",
       "1995-05-04  14.550  14.550  14.550  14.550  0.0000\n",
       "1995-05-06  14.500  14.500  14.500  14.500 -0.0034\n",
       "1995-05-08  14.500  14.500  14.500  14.500  0.0000\n",
       "1995-05-09  14.500  14.500  14.500  14.500  0.0000\n",
       "...            ...     ...     ...     ...     ...\n",
       "2022-06-12   2.340   2.340   2.340   2.340  0.0000\n",
       "2022-06-13   2.426   2.430   2.430   2.426  0.0368\n",
       "2022-06-14   2.445   2.445   2.445   2.445  0.0078\n",
       "2022-06-15   2.600   2.600   2.600   2.600  0.0634\n",
       "2022-06-16   2.514   2.514   2.514   2.514 -0.0331\n",
       "\n",
       "[6857 rows x 5 columns]"
      ]
     },
     "execution_count": 60,
     "metadata": {},
     "output_type": "execute_result"
    }
   ],
   "source": [
    "df"
   ]
  },
  {
   "cell_type": "markdown",
   "id": "495635f6",
   "metadata": {},
   "source": [
    "잠깐 국채도 finance datareader에 있음 ;;\n",
    "긴급히탈출"
   ]
  }
 ],
 "metadata": {
  "kernelspec": {
   "display_name": "Python 3 (ipykernel)",
   "language": "python",
   "name": "python3"
  },
  "language_info": {
   "codemirror_mode": {
    "name": "ipython",
    "version": 3
   },
   "file_extension": ".py",
   "mimetype": "text/x-python",
   "name": "python",
   "nbconvert_exporter": "python",
   "pygments_lexer": "ipython3",
   "version": "3.9.7"
  }
 },
 "nbformat": 4,
 "nbformat_minor": 5
}
