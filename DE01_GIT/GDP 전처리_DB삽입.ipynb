{
 "cells": [
  {
   "cell_type": "code",
   "execution_count": 12,
   "id": "189621cd",
   "metadata": {},
   "outputs": [],
   "source": [
    "import pandas as pd"
   ]
  },
  {
   "cell_type": "code",
   "execution_count": 13,
   "id": "be6b26b2",
   "metadata": {},
   "outputs": [],
   "source": [
    "gdpt = pd.read_excel('{경로}/KORGDP.xls')"
   ]
  },
  {
   "cell_type": "code",
   "execution_count": 14,
   "id": "0aed86f4",
   "metadata": {},
   "outputs": [
    {
     "name": "stdout",
     "output_type": "stream",
     "text": [
      "             NaN   NaN 국내총생산(명목GDP) 경제성장률(실질GDP성장률)\n",
      "Unnamed: 1   NaN  1970      2,796.6            10.1\n",
      "Unnamed: 2   NaN  1971      3,438.0            10.5\n",
      "Unnamed: 3   NaN  1972      4,267.7             7.2\n",
      "Unnamed: 4   NaN  1973      5,527.3            14.9\n",
      "Unnamed: 5   NaN  1974      7,905.0             9.5\n",
      "Unnamed: 6   NaN  1975     10,543.6             7.8\n",
      "Unnamed: 7   NaN  1976     14,472.8            13.2\n",
      "Unnamed: 8   NaN  1977     18,608.1            12.3\n",
      "Unnamed: 9   NaN  1978     25,154.5            11.0\n",
      "Unnamed: 10  NaN  1979     32,402.3             8.7\n",
      "Unnamed: 11  NaN  1980     39,725.1            -1.6\n",
      "Unnamed: 12  NaN  1981     49,669.8             7.2\n",
      "Unnamed: 13  NaN  1982     57,286.6             8.3\n",
      "Unnamed: 14  NaN  1983     68,080.1            13.4\n",
      "Unnamed: 15  NaN  1984     78,591.3            10.6\n",
      "Unnamed: 16  NaN  1985     88,129.7             7.8\n",
      "Unnamed: 17  NaN  1986    102,985.8            11.3\n",
      "Unnamed: 18  NaN  1987    121,697.8            12.7\n",
      "Unnamed: 19  NaN  1988    145,994.7            12.0\n",
      "Unnamed: 20  NaN  1989    165,801.8             7.1\n",
      "Unnamed: 21  NaN  1990    200,556.2             9.9\n",
      "Unnamed: 22  NaN  1991    242,481.1            10.8\n",
      "Unnamed: 23  NaN  1992    277,540.8             6.2\n",
      "Unnamed: 24  NaN  1993    315,181.3             6.9\n",
      "Unnamed: 25  NaN  1994    372,493.4             9.3\n",
      "Unnamed: 26  NaN  1995    436,988.8             9.6\n",
      "Unnamed: 27  NaN  1996    490,850.9             7.9\n",
      "Unnamed: 28  NaN  1997    542,001.8             6.2\n",
      "Unnamed: 29  NaN  1998    537,215.3            -5.1\n",
      "Unnamed: 30  NaN  1999    591,453.0            11.5\n",
      "Unnamed: 31  NaN  2000    651,634.4             9.1\n",
      "Unnamed: 32  NaN  2001    707,021.3             4.9\n",
      "Unnamed: 33  NaN  2002    784,741.3             7.7\n",
      "Unnamed: 34  NaN  2003    837,365.0             3.1\n",
      "Unnamed: 35  NaN  2004    908,439.2             5.2\n",
      "Unnamed: 36  NaN  2005    957,447.8             4.3\n",
      "Unnamed: 37  NaN  2006  1,005,601.5             5.3\n",
      "Unnamed: 38  NaN  2007  1,089,660.2             5.8\n",
      "Unnamed: 39  NaN  2008  1,154,216.5             3.0\n",
      "Unnamed: 40  NaN  2009  1,205,347.7             0.8\n",
      "Unnamed: 41  NaN  2010  1,322,611.2             6.8\n",
      "Unnamed: 42  NaN  2011  1,388,937.2             3.7\n",
      "Unnamed: 43  NaN  2012  1,440,111.4             2.4\n",
      "Unnamed: 44  NaN  2013  1,500,819.1             3.2\n",
      "Unnamed: 45  NaN  2014  1,562,928.9             3.2\n",
      "Unnamed: 46  NaN  2015  1,658,020.4             2.8\n",
      "Unnamed: 47  NaN  2016  1,740,779.6             2.9\n",
      "Unnamed: 48  NaN  2017  1,835,698.2             3.2\n",
      "Unnamed: 49  NaN  2018  1,898,192.6             2.9\n",
      "Unnamed: 50  NaN  2019  1,924,498.1             2.2\n",
      "Unnamed: 51  NaN  2020  1,933,152.4            -0.9\n",
      "Unnamed: 52  NaN  2021  2,057,447.8             4.0\n"
     ]
    }
   ],
   "source": [
    "gdp = gdpt.transpose()\n",
    "gdp.rename(columns=gdp.iloc[0], inplace=True)\t# 행열이 전환된 데이터프레임의 열 이름 제대로 수정\n",
    "gdp = gdp.drop(gdp.index[0])\n",
    "print(gdp)"
   ]
  },
  {
   "cell_type": "code",
   "execution_count": 16,
   "id": "8b8e4798",
   "metadata": {},
   "outputs": [
    {
     "data": {
      "text/plain": [
       "Index([nan, nan, '국내총생산(명목GDP)', '경제성장률(실질GDP성장률)'], dtype='object')"
      ]
     },
     "execution_count": 16,
     "metadata": {},
     "output_type": "execute_result"
    }
   ],
   "source": [
    "gdp.columns"
   ]
  },
  {
   "cell_type": "code",
   "execution_count": 17,
   "id": "b74e8770",
   "metadata": {},
   "outputs": [
    {
     "name": "stdout",
     "output_type": "stream",
     "text": [
      "               1     2            3     4\n",
      "Unnamed: 1   NaN  1970      2,796.6  10.1\n",
      "Unnamed: 2   NaN  1971      3,438.0  10.5\n",
      "Unnamed: 3   NaN  1972      4,267.7   7.2\n",
      "Unnamed: 4   NaN  1973      5,527.3  14.9\n",
      "Unnamed: 5   NaN  1974      7,905.0   9.5\n",
      "Unnamed: 6   NaN  1975     10,543.6   7.8\n",
      "Unnamed: 7   NaN  1976     14,472.8  13.2\n",
      "Unnamed: 8   NaN  1977     18,608.1  12.3\n",
      "Unnamed: 9   NaN  1978     25,154.5  11.0\n",
      "Unnamed: 10  NaN  1979     32,402.3   8.7\n",
      "Unnamed: 11  NaN  1980     39,725.1  -1.6\n",
      "Unnamed: 12  NaN  1981     49,669.8   7.2\n",
      "Unnamed: 13  NaN  1982     57,286.6   8.3\n",
      "Unnamed: 14  NaN  1983     68,080.1  13.4\n",
      "Unnamed: 15  NaN  1984     78,591.3  10.6\n",
      "Unnamed: 16  NaN  1985     88,129.7   7.8\n",
      "Unnamed: 17  NaN  1986    102,985.8  11.3\n",
      "Unnamed: 18  NaN  1987    121,697.8  12.7\n",
      "Unnamed: 19  NaN  1988    145,994.7  12.0\n",
      "Unnamed: 20  NaN  1989    165,801.8   7.1\n",
      "Unnamed: 21  NaN  1990    200,556.2   9.9\n",
      "Unnamed: 22  NaN  1991    242,481.1  10.8\n",
      "Unnamed: 23  NaN  1992    277,540.8   6.2\n",
      "Unnamed: 24  NaN  1993    315,181.3   6.9\n",
      "Unnamed: 25  NaN  1994    372,493.4   9.3\n",
      "Unnamed: 26  NaN  1995    436,988.8   9.6\n",
      "Unnamed: 27  NaN  1996    490,850.9   7.9\n",
      "Unnamed: 28  NaN  1997    542,001.8   6.2\n",
      "Unnamed: 29  NaN  1998    537,215.3  -5.1\n",
      "Unnamed: 30  NaN  1999    591,453.0  11.5\n",
      "Unnamed: 31  NaN  2000    651,634.4   9.1\n",
      "Unnamed: 32  NaN  2001    707,021.3   4.9\n",
      "Unnamed: 33  NaN  2002    784,741.3   7.7\n",
      "Unnamed: 34  NaN  2003    837,365.0   3.1\n",
      "Unnamed: 35  NaN  2004    908,439.2   5.2\n",
      "Unnamed: 36  NaN  2005    957,447.8   4.3\n",
      "Unnamed: 37  NaN  2006  1,005,601.5   5.3\n",
      "Unnamed: 38  NaN  2007  1,089,660.2   5.8\n",
      "Unnamed: 39  NaN  2008  1,154,216.5   3.0\n",
      "Unnamed: 40  NaN  2009  1,205,347.7   0.8\n",
      "Unnamed: 41  NaN  2010  1,322,611.2   6.8\n",
      "Unnamed: 42  NaN  2011  1,388,937.2   3.7\n",
      "Unnamed: 43  NaN  2012  1,440,111.4   2.4\n",
      "Unnamed: 44  NaN  2013  1,500,819.1   3.2\n",
      "Unnamed: 45  NaN  2014  1,562,928.9   3.2\n",
      "Unnamed: 46  NaN  2015  1,658,020.4   2.8\n",
      "Unnamed: 47  NaN  2016  1,740,779.6   2.9\n",
      "Unnamed: 48  NaN  2017  1,835,698.2   3.2\n",
      "Unnamed: 49  NaN  2018  1,898,192.6   2.9\n",
      "Unnamed: 50  NaN  2019  1,924,498.1   2.2\n",
      "Unnamed: 51  NaN  2020  1,933,152.4  -0.9\n",
      "Unnamed: 52  NaN  2021  2,057,447.8   4.0\n"
     ]
    }
   ],
   "source": [
    "gdp.columns = ['1','2','3','4']\n",
    "print(gdp)"
   ]
  },
  {
   "cell_type": "code",
   "execution_count": 18,
   "id": "baf0ae03",
   "metadata": {},
   "outputs": [],
   "source": [
    "gdp = gdp.drop('1', axis=1)"
   ]
  },
  {
   "cell_type": "code",
   "execution_count": 96,
   "id": "744a7f08",
   "metadata": {},
   "outputs": [
    {
     "name": "stdout",
     "output_type": "stream",
     "text": [
      "                2            3     4\n",
      "Unnamed: 1   1970      2,796.6  10.1\n",
      "Unnamed: 2   1971      3,438.0  10.5\n",
      "Unnamed: 3   1972      4,267.7   7.2\n",
      "Unnamed: 4   1973      5,527.3  14.9\n",
      "Unnamed: 5   1974      7,905.0   9.5\n",
      "Unnamed: 6   1975     10,543.6   7.8\n",
      "Unnamed: 7   1976     14,472.8  13.2\n",
      "Unnamed: 8   1977     18,608.1  12.3\n",
      "Unnamed: 9   1978     25,154.5  11.0\n",
      "Unnamed: 10  1979     32,402.3   8.7\n",
      "Unnamed: 11  1980     39,725.1  -1.6\n",
      "Unnamed: 12  1981     49,669.8   7.2\n",
      "Unnamed: 13  1982     57,286.6   8.3\n",
      "Unnamed: 14  1983     68,080.1  13.4\n",
      "Unnamed: 15  1984     78,591.3  10.6\n",
      "Unnamed: 16  1985     88,129.7   7.8\n",
      "Unnamed: 17  1986    102,985.8  11.3\n",
      "Unnamed: 18  1987    121,697.8  12.7\n",
      "Unnamed: 19  1988    145,994.7  12.0\n",
      "Unnamed: 20  1989    165,801.8   7.1\n",
      "Unnamed: 21  1990    200,556.2   9.9\n",
      "Unnamed: 22  1991    242,481.1  10.8\n",
      "Unnamed: 23  1992    277,540.8   6.2\n",
      "Unnamed: 24  1993    315,181.3   6.9\n",
      "Unnamed: 25  1994    372,493.4   9.3\n",
      "Unnamed: 26  1995    436,988.8   9.6\n",
      "Unnamed: 27  1996    490,850.9   7.9\n",
      "Unnamed: 28  1997    542,001.8   6.2\n",
      "Unnamed: 29  1998    537,215.3  -5.1\n",
      "Unnamed: 30  1999    591,453.0  11.5\n",
      "Unnamed: 31  2000    651,634.4   9.1\n",
      "Unnamed: 32  2001    707,021.3   4.9\n",
      "Unnamed: 33  2002    784,741.3   7.7\n",
      "Unnamed: 34  2003    837,365.0   3.1\n",
      "Unnamed: 35  2004    908,439.2   5.2\n",
      "Unnamed: 36  2005    957,447.8   4.3\n",
      "Unnamed: 37  2006  1,005,601.5   5.3\n",
      "Unnamed: 38  2007  1,089,660.2   5.8\n",
      "Unnamed: 39  2008  1,154,216.5   3.0\n",
      "Unnamed: 40  2009  1,205,347.7   0.8\n",
      "Unnamed: 41  2010  1,322,611.2   6.8\n",
      "Unnamed: 42  2011  1,388,937.2   3.7\n",
      "Unnamed: 43  2012  1,440,111.4   2.4\n",
      "Unnamed: 44  2013  1,500,819.1   3.2\n",
      "Unnamed: 45  2014  1,562,928.9   3.2\n",
      "Unnamed: 46  2015  1,658,020.4   2.8\n",
      "Unnamed: 47  2016  1,740,779.6   2.9\n",
      "Unnamed: 48  2017  1,835,698.2   3.2\n",
      "Unnamed: 49  2018  1,898,192.6   2.9\n",
      "Unnamed: 50  2019  1,924,498.1   2.2\n",
      "Unnamed: 51  2020  1,933,152.4  -0.9\n",
      "Unnamed: 52  2021  2,057,447.8   4.0\n"
     ]
    }
   ],
   "source": [
    "print(gdp)"
   ]
  },
  {
   "cell_type": "code",
   "execution_count": 19,
   "id": "6005ab2b",
   "metadata": {},
   "outputs": [
    {
     "name": "stdout",
     "output_type": "stream",
     "text": [
      "               연도 국내총생산(명목GDP)(단위:10억원) 경제성장률(실질GDP성장률)\n",
      "Unnamed: 1   1970               2,796.6            10.1\n",
      "Unnamed: 2   1971               3,438.0            10.5\n",
      "Unnamed: 3   1972               4,267.7             7.2\n",
      "Unnamed: 4   1973               5,527.3            14.9\n",
      "Unnamed: 5   1974               7,905.0             9.5\n",
      "Unnamed: 6   1975              10,543.6             7.8\n",
      "Unnamed: 7   1976              14,472.8            13.2\n",
      "Unnamed: 8   1977              18,608.1            12.3\n",
      "Unnamed: 9   1978              25,154.5            11.0\n",
      "Unnamed: 10  1979              32,402.3             8.7\n",
      "Unnamed: 11  1980              39,725.1            -1.6\n",
      "Unnamed: 12  1981              49,669.8             7.2\n",
      "Unnamed: 13  1982              57,286.6             8.3\n",
      "Unnamed: 14  1983              68,080.1            13.4\n",
      "Unnamed: 15  1984              78,591.3            10.6\n",
      "Unnamed: 16  1985              88,129.7             7.8\n",
      "Unnamed: 17  1986             102,985.8            11.3\n",
      "Unnamed: 18  1987             121,697.8            12.7\n",
      "Unnamed: 19  1988             145,994.7            12.0\n",
      "Unnamed: 20  1989             165,801.8             7.1\n",
      "Unnamed: 21  1990             200,556.2             9.9\n",
      "Unnamed: 22  1991             242,481.1            10.8\n",
      "Unnamed: 23  1992             277,540.8             6.2\n",
      "Unnamed: 24  1993             315,181.3             6.9\n",
      "Unnamed: 25  1994             372,493.4             9.3\n",
      "Unnamed: 26  1995             436,988.8             9.6\n",
      "Unnamed: 27  1996             490,850.9             7.9\n",
      "Unnamed: 28  1997             542,001.8             6.2\n",
      "Unnamed: 29  1998             537,215.3            -5.1\n",
      "Unnamed: 30  1999             591,453.0            11.5\n",
      "Unnamed: 31  2000             651,634.4             9.1\n",
      "Unnamed: 32  2001             707,021.3             4.9\n",
      "Unnamed: 33  2002             784,741.3             7.7\n",
      "Unnamed: 34  2003             837,365.0             3.1\n",
      "Unnamed: 35  2004             908,439.2             5.2\n",
      "Unnamed: 36  2005             957,447.8             4.3\n",
      "Unnamed: 37  2006           1,005,601.5             5.3\n",
      "Unnamed: 38  2007           1,089,660.2             5.8\n",
      "Unnamed: 39  2008           1,154,216.5             3.0\n",
      "Unnamed: 40  2009           1,205,347.7             0.8\n",
      "Unnamed: 41  2010           1,322,611.2             6.8\n",
      "Unnamed: 42  2011           1,388,937.2             3.7\n",
      "Unnamed: 43  2012           1,440,111.4             2.4\n",
      "Unnamed: 44  2013           1,500,819.1             3.2\n",
      "Unnamed: 45  2014           1,562,928.9             3.2\n",
      "Unnamed: 46  2015           1,658,020.4             2.8\n",
      "Unnamed: 47  2016           1,740,779.6             2.9\n",
      "Unnamed: 48  2017           1,835,698.2             3.2\n",
      "Unnamed: 49  2018           1,898,192.6             2.9\n",
      "Unnamed: 50  2019           1,924,498.1             2.2\n",
      "Unnamed: 51  2020           1,933,152.4            -0.9\n",
      "Unnamed: 52  2021           2,057,447.8             4.0\n"
     ]
    }
   ],
   "source": [
    "gdp.columns = ['연도','국내총생산(명목GDP)(단위:10억원)','경제성장률(실질GDP성장률)']\n",
    "print(gdp)"
   ]
  },
  {
   "cell_type": "code",
   "execution_count": 20,
   "id": "9c48e721",
   "metadata": {},
   "outputs": [
    {
     "name": "stdout",
     "output_type": "stream",
     "text": [
      "               연도 국내총생산(명목GDP)(단위:10억원) 경제성장률(실질GDP성장률)\n",
      "Unnamed: 1   1970               2,796.6            10.1\n",
      "Unnamed: 2   1971               3,438.0            10.5\n",
      "Unnamed: 3   1972               4,267.7             7.2\n",
      "Unnamed: 4   1973               5,527.3            14.9\n",
      "Unnamed: 5   1974               7,905.0             9.5\n",
      "Unnamed: 6   1975              10,543.6             7.8\n",
      "Unnamed: 7   1976              14,472.8            13.2\n",
      "Unnamed: 8   1977              18,608.1            12.3\n",
      "Unnamed: 9   1978              25,154.5            11.0\n",
      "Unnamed: 10  1979              32,402.3             8.7\n",
      "Unnamed: 11  1980              39,725.1            -1.6\n",
      "Unnamed: 12  1981              49,669.8             7.2\n",
      "Unnamed: 13  1982              57,286.6             8.3\n",
      "Unnamed: 14  1983              68,080.1            13.4\n",
      "Unnamed: 15  1984              78,591.3            10.6\n",
      "Unnamed: 16  1985              88,129.7             7.8\n",
      "Unnamed: 17  1986             102,985.8            11.3\n",
      "Unnamed: 18  1987             121,697.8            12.7\n",
      "Unnamed: 19  1988             145,994.7            12.0\n",
      "Unnamed: 20  1989             165,801.8             7.1\n",
      "Unnamed: 21  1990             200,556.2             9.9\n",
      "Unnamed: 22  1991             242,481.1            10.8\n",
      "Unnamed: 23  1992             277,540.8             6.2\n",
      "Unnamed: 24  1993             315,181.3             6.9\n",
      "Unnamed: 25  1994             372,493.4             9.3\n",
      "Unnamed: 26  1995             436,988.8             9.6\n",
      "Unnamed: 27  1996             490,850.9             7.9\n",
      "Unnamed: 28  1997             542,001.8             6.2\n",
      "Unnamed: 29  1998             537,215.3            -5.1\n",
      "Unnamed: 30  1999             591,453.0            11.5\n",
      "Unnamed: 31  2000             651,634.4             9.1\n",
      "Unnamed: 32  2001             707,021.3             4.9\n",
      "Unnamed: 33  2002             784,741.3             7.7\n",
      "Unnamed: 34  2003             837,365.0             3.1\n",
      "Unnamed: 35  2004             908,439.2             5.2\n",
      "Unnamed: 36  2005             957,447.8             4.3\n",
      "Unnamed: 37  2006           1,005,601.5             5.3\n",
      "Unnamed: 38  2007           1,089,660.2             5.8\n",
      "Unnamed: 39  2008           1,154,216.5             3.0\n",
      "Unnamed: 40  2009           1,205,347.7             0.8\n",
      "Unnamed: 41  2010           1,322,611.2             6.8\n",
      "Unnamed: 42  2011           1,388,937.2             3.7\n",
      "Unnamed: 43  2012           1,440,111.4             2.4\n",
      "Unnamed: 44  2013           1,500,819.1             3.2\n",
      "Unnamed: 45  2014           1,562,928.9             3.2\n",
      "Unnamed: 46  2015           1,658,020.4             2.8\n",
      "Unnamed: 47  2016           1,740,779.6             2.9\n",
      "Unnamed: 48  2017           1,835,698.2             3.2\n",
      "Unnamed: 49  2018           1,898,192.6             2.9\n",
      "Unnamed: 50  2019           1,924,498.1             2.2\n",
      "Unnamed: 51  2020           1,933,152.4            -0.9\n",
      "Unnamed: 52  2021           2,057,447.8             4.0\n"
     ]
    }
   ],
   "source": [
    "gdp.reset_index(drop=True)\n",
    "print(gdp)"
   ]
  },
  {
   "cell_type": "code",
   "execution_count": 21,
   "id": "92dcd7e8",
   "metadata": {},
   "outputs": [],
   "source": [
    "from sqlalchemy import create_engine\n",
    "import pymysql"
   ]
  },
  {
   "cell_type": "code",
   "execution_count": 22,
   "id": "e2ecead9",
   "metadata": {},
   "outputs": [],
   "source": [
    "db_connection_str = '{MySQL 서버 경로}'\n",
    "db_connection = create_engine(db_connection_str, encoding='utf-8')\n",
    "conn = db_connection.connect()\n",
    "\n",
    "gdp.to_sql(name='gdp', con=db_connection, if_exists='append', index=False)"
   ]
  },
  {
   "cell_type": "code",
   "execution_count": null,
   "id": "a9fa828d",
   "metadata": {},
   "outputs": [],
   "source": []
  }
 ],
 "metadata": {
  "kernelspec": {
   "display_name": "Python 3 (ipykernel)",
   "language": "python",
   "name": "python3"
  },
  "language_info": {
   "codemirror_mode": {
    "name": "ipython",
    "version": 3
   },
   "file_extension": ".py",
   "mimetype": "text/x-python",
   "name": "python",
   "nbconvert_exporter": "python",
   "pygments_lexer": "ipython3",
   "version": "3.9.7"
  }
 },
 "nbformat": 4,
 "nbformat_minor": 5
}
